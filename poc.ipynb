{
 "cells": [
  {
   "cell_type": "code",
   "execution_count": 63,
   "metadata": {},
   "outputs": [],
   "source": [
    "from git import Repo"
   ]
  },
  {
   "cell_type": "code",
   "execution_count": 64,
   "metadata": {},
   "outputs": [],
   "source": [
    "repo = Repo('~/Desktop/test_repo')"
   ]
  },
  {
   "cell_type": "code",
   "execution_count": 65,
   "metadata": {},
   "outputs": [],
   "source": [
    "def print_diff(diff):\n",
    "    print(diff.change_type, diff.a_path, diff.renamed_file)\n",
    "    \n",
    "def print_untracked(f):\n",
    "    print(f)"
   ]
  },
  {
   "cell_type": "code",
   "execution_count": 66,
   "metadata": {
    "scrolled": false
   },
   "outputs": [
    {
     "name": "stdout",
     "output_type": "stream",
     "text": [
      "Staged\n",
      "M changed_file False\n",
      "R renaed_file True\n",
      "R sub_dir/moved_file True\n",
      "A moved_file False\n",
      "R sub_dir/moved_file_2 True\n"
     ]
    }
   ],
   "source": [
    "print('Staged')\n",
    "staged = repo.index.diff(repo.head.commit)\n",
    "for diff in staged:\n",
    "    print_diff(diff)"
   ]
  },
  {
   "cell_type": "code",
   "execution_count": 67,
   "metadata": {},
   "outputs": [
    {
     "name": "stdout",
     "output_type": "stream",
     "text": [
      "Unstaged\n"
     ]
    }
   ],
   "source": [
    "print('Unstaged')\n",
    "unstaged = repo.index.diff(None)\n",
    "for diff in unstaged:\n",
    "    print_diff(diff)"
   ]
  },
  {
   "cell_type": "code",
   "execution_count": 62,
   "metadata": {},
   "outputs": [
    {
     "name": "stdout",
     "output_type": "stream",
     "text": [
      "Untracked\n",
      "untracked_file\n"
     ]
    }
   ],
   "source": [
    "print('Untracked')\n",
    "untracked = repo.untracked_files\n",
    "for f in untracked:\n",
    "    print_untracked(f)"
   ]
  },
  {
   "cell_type": "code",
   "execution_count": null,
   "metadata": {},
   "outputs": [],
   "source": []
  },
  {
   "cell_type": "code",
   "execution_count": 9,
   "metadata": {},
   "outputs": [
    {
     "name": "stdout",
     "output_type": "stream",
     "text": [
      "123456..\n"
     ]
    }
   ],
   "source": [
    "bla = '123456789'\n",
    "max_len = 8\n",
    "\n",
    "if max_len >= len(bla):\n",
    "    print(bla)\n",
    "else:\n",
    "    print(bla[:max_len-2]+'..')"
   ]
  },
  {
   "cell_type": "code",
   "execution_count": 10,
   "metadata": {},
   "outputs": [],
   "source": [
    "do_something = lambda text: print(text)"
   ]
  },
  {
   "cell_type": "code",
   "execution_count": 11,
   "metadata": {},
   "outputs": [
    {
     "name": "stdout",
     "output_type": "stream",
     "text": [
      "hallo\n"
     ]
    }
   ],
   "source": [
    "do_something('hallo')"
   ]
  },
  {
   "cell_type": "code",
   "execution_count": null,
   "metadata": {},
   "outputs": [],
   "source": []
  }
 ],
 "metadata": {
  "kernelspec": {
   "display_name": "Python 3",
   "language": "python",
   "name": "python3"
  },
  "language_info": {
   "codemirror_mode": {
    "name": "ipython",
    "version": 3
   },
   "file_extension": ".py",
   "mimetype": "text/x-python",
   "name": "python",
   "nbconvert_exporter": "python",
   "pygments_lexer": "ipython3",
   "version": "3.7.4"
  }
 },
 "nbformat": 4,
 "nbformat_minor": 2
}
